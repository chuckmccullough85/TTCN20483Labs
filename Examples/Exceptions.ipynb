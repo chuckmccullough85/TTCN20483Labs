{
 "cells": [
  {
   "cell_type": "markdown",
   "metadata": {},
   "source": [
    "## Exceptions\n",
    "\n",
    "### throw validation exception\n",
    "\n"
   ]
  },
  {
   "cell_type": "code",
   "execution_count": null,
   "metadata": {
    "dotnet_interactive": {
     "language": "csharp"
    },
    "polyglot_notebook": {
     "kernelName": "csharp"
    },
    "vscode": {
     "languageId": "polyglot-notebook"
    }
   },
   "outputs": [],
   "source": [
    "F2C(-999);\n",
    "\n",
    "double F2C (double f) {\n",
    "    // throw exception if f is below absolute zero\n",
    "    if (f < -459.67) {\n",
    "        throw new ArgumentException(\"Temperature below absolute zero\");\n",
    "    }\n",
    "    return (f - 32) * 5 / 9;\n",
    "}"
   ]
  },
  {
   "cell_type": "markdown",
   "metadata": {},
   "source": [
    "### Custom Exceptions"
   ]
  },
  {
   "cell_type": "code",
   "execution_count": null,
   "metadata": {
    "dotnet_interactive": {
     "language": "csharp"
    },
    "polyglot_notebook": {
     "kernelName": "csharp"
    },
    "vscode": {
     "languageId": "polyglot-notebook"
    }
   },
   "outputs": [],
   "source": [
    "class TemperatureException(string msg) : Exception(msg);\n",
    "\n",
    "double F2C (double f) {\n",
    "    // throw exception if f is below absolute zero\n",
    "    if (f < -459.67) {\n",
    "        throw new TemperatureException(\"Temperature below absolute zero\");\n",
    "    }\n",
    "    return (f - 32) * 5 / 9;\n",
    "}\n",
    "\n",
    "F2C(-999);"
   ]
  },
  {
   "cell_type": "markdown",
   "metadata": {},
   "source": [
    "Note in the example above, the custom exception class is defined using a *primary constructor*\n",
    "\n"
   ]
  },
  {
   "cell_type": "code",
   "execution_count": null,
   "metadata": {
    "dotnet_interactive": {
     "language": "csharp"
    },
    "polyglot_notebook": {
     "kernelName": "csharp"
    },
    "vscode": {
     "languageId": "polyglot-notebook"
    }
   },
   "outputs": [],
   "source": [
    "class TemperatureException : ArgumentException\n",
    "{\n",
    "    public TemperatureException(double value) \n",
    "    : base($\"Temperature below absolute zero: {value}\")\n",
    "    {  }\n",
    "}\n",
    "\n",
    "double F2C (double f) {\n",
    "    // throw exception if f is below absolute zero\n",
    "    if (f < -459.67) {\n",
    "        throw new TemperatureException(f);\n",
    "    }\n",
    "    return (f - 32) * 5 / 9;\n",
    "}\n",
    "\n",
    "try {\n",
    "    F2C(-999);\n",
    "} catch (TemperatureException e) {\n",
    "    Console.WriteLine(e.Message);\n",
    "} catch (Exception e) {\n",
    "    Console.WriteLine(\"An error occurred: \" + e.Message);\n",
    "} finally {\n",
    "    Console.WriteLine(\"Done\");\n",
    "}\n",
    "\n"
   ]
  },
  {
   "cell_type": "markdown",
   "metadata": {},
   "source": [
    "### when"
   ]
  },
  {
   "cell_type": "code",
   "execution_count": null,
   "metadata": {
    "dotnet_interactive": {
     "language": "csharp"
    },
    "polyglot_notebook": {
     "kernelName": "csharp"
    },
    "vscode": {
     "languageId": "polyglot-notebook"
    }
   },
   "outputs": [],
   "source": [
    "using System.IO;\n",
    "FileStream fs = null;\n",
    "try {\n",
    "    fs = new FileStream(\"file.txt\", FileMode.Open);\n",
    "    // read from the file\n",
    "} \n",
    "catch (Exception e) when (e is FileNotFoundException || e is IOException) {\n",
    "    Console.WriteLine(\"error: \" + e.Message);\n",
    "}"
   ]
  },
  {
   "cell_type": "markdown",
   "metadata": {},
   "source": [
    "### rethrow\n",
    "Rethrowing an exception is done using the `throw` keyword without an argument. This is useful when you want to catch an exception, do something, and then rethrow it."
   ]
  },
  {
   "cell_type": "code",
   "execution_count": null,
   "metadata": {
    "dotnet_interactive": {
     "language": "csharp"
    },
    "polyglot_notebook": {
     "kernelName": "csharp"
    },
    "vscode": {
     "languageId": "polyglot-notebook"
    }
   },
   "outputs": [],
   "source": [
    "using System.IO;\n",
    "FileStream fs = null;\n",
    "try {\n",
    "    fs = new FileStream(\"file.txt\", FileMode.Open);\n",
    "    // read from the file\n",
    "} \n",
    "catch (Exception e) when (e is FileNotFoundException || e is IOException) {\n",
    "    Console.WriteLine(\"error: \" + e.Message);\n",
    "    throw;\n",
    "}"
   ]
  },
  {
   "cell_type": "markdown",
   "metadata": {},
   "source": [
    "rethrow a new exception"
   ]
  },
  {
   "cell_type": "code",
   "execution_count": null,
   "metadata": {
    "dotnet_interactive": {
     "language": "csharp"
    },
    "polyglot_notebook": {
     "kernelName": "csharp"
    },
    "vscode": {
     "languageId": "polyglot-notebook"
    }
   },
   "outputs": [],
   "source": [
    "using System.IO;\n",
    "class MyException(Exception e) : Exception(e);\n",
    "\n",
    "FileStream fs = null;\n",
    "try {\n",
    "    fs = new FileStream(\"file.txt\", FileMode.Open);\n",
    "    // read from the file\n",
    "} \n",
    "catch (Exception e) when (e is FileNotFoundException || e is IOException) {\n",
    "    Console.WriteLine(\"error: \" + e.Message);\n",
    "    throw new MyException(e);\n",
    "}"
   ]
  },
  {
   "cell_type": "markdown",
   "metadata": {},
   "source": [
    "### Using\n",
    "block below demonstates the older **finally** approach"
   ]
  },
  {
   "cell_type": "code",
   "execution_count": null,
   "metadata": {
    "dotnet_interactive": {
     "language": "csharp"
    },
    "polyglot_notebook": {
     "kernelName": "csharp"
    },
    "vscode": {
     "languageId": "polyglot-notebook"
    }
   },
   "outputs": [],
   "source": [
    "using System.IO;\n",
    "FileStream fs = null;\n",
    "try {\n",
    "    fs = new FileStream(\"file.txt\", FileMode.Open);\n",
    "    // read from the file\n",
    "} catch (FileNotFoundException e) {\n",
    "    Console.WriteLine(\"File not found: \" + e.Message);\n",
    "} catch (IOException e) {\n",
    "    Console.WriteLine(\"An error occurred: \" + e.Message);\n",
    "} finally {\n",
    "    if (fs != null) {\n",
    "        fs.Close();\n",
    "    }\n",
    "}\n"
   ]
  },
  {
   "cell_type": "markdown",
   "metadata": {},
   "source": [
    "block using approach:"
   ]
  },
  {
   "cell_type": "code",
   "execution_count": null,
   "metadata": {
    "dotnet_interactive": {
     "language": "csharp"
    },
    "polyglot_notebook": {
     "kernelName": "csharp"
    },
    "vscode": {
     "languageId": "polyglot-notebook"
    }
   },
   "outputs": [],
   "source": [
    "using System.IO;\n",
    "using (var fs = new FileStream(\"file.txt\", FileMode.Open)) {\n",
    "    try {\n",
    "    // read from the file\n",
    "    }\n",
    "    catch (FileNotFoundException e) {\n",
    "        Console.WriteLine(\"File not found: \" + e.Message);\n",
    "    } catch (IOException e) {\n",
    "        Console.WriteLine(\"An error occurred: \" + e.Message);\n",
    "    }\n",
    "}"
   ]
  },
  {
   "cell_type": "markdown",
   "metadata": {},
   "source": [
    "blockless using approach:"
   ]
  },
  {
   "cell_type": "code",
   "execution_count": null,
   "metadata": {
    "dotnet_interactive": {
     "language": "csharp"
    },
    "polyglot_notebook": {
     "kernelName": "csharp"
    },
    "vscode": {
     "languageId": "polyglot-notebook"
    }
   },
   "outputs": [],
   "source": [
    "using System.IO;\n",
    "\n",
    "void Example()\n",
    "{\n",
    "    using var fs = new FileStream(\"file.txt\", FileMode.Open);\n",
    "    using var outstream = new FileStream(\"out.txt\", FileMode.Create);\n",
    "    // code that uses fs and outstream\n",
    "}\n"
   ]
  },
  {
   "cell_type": "markdown",
   "metadata": {},
   "source": [
    "### Documenting Exceptions"
   ]
  },
  {
   "cell_type": "code",
   "execution_count": null,
   "metadata": {
    "dotnet_interactive": {
     "language": "csharp"
    },
    "polyglot_notebook": {
     "kernelName": "csharp"
    },
    "vscode": {
     "languageId": "polyglot-notebook"
    }
   },
   "outputs": [],
   "source": [
    "class TemperatureException(double temp) : Exception($\"{temp} is below absolute zero\");\n",
    "\n",
    "/// <summary>Convert Fahrenheit to Celsius</summary>\n",
    "/// <param name=\"f\">Temperature in Fahrenheit</param>\n",
    "/// <returns>Temperature in Celsius</returns>\n",
    "/// <exception cref=\"TemperatureException\">Thrown when temperature is below absolute zero</exception>\n",
    "double F2C (double f) {\n",
    "    // throw exception if f is below absolute zero\n",
    "    if (f < -459.67) {\n",
    "        throw new TemperatureException(f);\n",
    "    }\n",
    "    return (f - 32) * 5 / 9;\n",
    "}\n",
    "\n",
    "F2C(-999);"
   ]
  },
  {
   "cell_type": "markdown",
   "metadata": {},
   "source": [
    "Generate a list of 200 random temperatures."
   ]
  },
  {
   "cell_type": "code",
   "execution_count": 9,
   "metadata": {
    "dotnet_interactive": {
     "language": "csharp"
    },
    "polyglot_notebook": {
     "kernelName": "csharp"
    },
    "vscode": {
     "languageId": "polyglot-notebook"
    }
   },
   "outputs": [
    {
     "name": "stdout",
     "output_type": "stream",
     "text": [
      "200 random Fahrenheit temperatures have been written to temps.txt\r\n"
     ]
    }
   ],
   "source": [
    "using System.IO;\n",
    "Random rand = new Random();\n",
    "string filePath = @\"../Labs/Exceptions/temps.txt\";\n",
    "using (StreamWriter writer = new StreamWriter(filePath))\n",
    "{\n",
    "    for (int i = 0; i < 200; i++)\n",
    "    {\n",
    "        double tempFahrenheit = rand.NextDouble() * 500 - 200; \n",
    "        writer.WriteLine(tempFahrenheit.ToString(\"F2\"));\n",
    "    }\n",
    "}\n",
    "Console.WriteLine(\"200 random Fahrenheit temperatures have been written to temps.txt\");"
   ]
  }
 ],
 "metadata": {
  "kernelspec": {
   "display_name": ".NET (C#)",
   "language": "C#",
   "name": ".net-csharp"
  },
  "language_info": {
   "name": "python"
  },
  "polyglot_notebook": {
   "kernelInfo": {
    "defaultKernelName": "csharp",
    "items": [
     {
      "aliases": [],
      "name": "csharp"
     }
    ]
   }
  }
 },
 "nbformat": 4,
 "nbformat_minor": 2
}
