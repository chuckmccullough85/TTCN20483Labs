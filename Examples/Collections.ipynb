{
 "cells": [
  {
   "cell_type": "markdown",
   "metadata": {},
   "source": [
    "# Collections\n",
    "## IEnumerable\n",
    "Objects that implement IEnumberable can be looped over with `foreach`.\n"
   ]
  },
  {
   "cell_type": "code",
   "execution_count": null,
   "metadata": {
    "dotnet_interactive": {
     "language": "csharp"
    },
    "polyglot_notebook": {
     "kernelName": "csharp"
    },
    "vscode": {
     "languageId": "polyglot-notebook"
    }
   },
   "outputs": [],
   "source": [
    "\n",
    "IEnumerable<string> lines = \n",
    "    new string[] { \"line 1\", \"line 2\", \"line 3\" };    \n",
    "var e = lines.GetEnumerator();\n",
    "\n",
    "while (e.MoveNext())\n",
    "{\n",
    "    var line = e.Current;\n",
    "    Console.WriteLine(line);\n",
    "}\n",
    "\n",
    "foreach (var l in lines)\n",
    "    Console.WriteLine(l);\n",
    "\n"
   ]
  },
  {
   "cell_type": "markdown",
   "metadata": {},
   "source": [
    "Custom Enumerator\n"
   ]
  },
  {
   "cell_type": "code",
   "execution_count": null,
   "metadata": {
    "dotnet_interactive": {
     "language": "csharp"
    },
    "polyglot_notebook": {
     "kernelName": "csharp"
    },
    "vscode": {
     "languageId": "polyglot-notebook"
    }
   },
   "outputs": [],
   "source": [
    "class MyEnumerable : IEnumerable<string>\n",
    "{\n",
    "    public IEnumerator<string> GetEnumerator()\n",
    "    {\n",
    "        yield return \"line 1\";\n",
    "        yield return \"line 2\";\n",
    "        yield return \"line 3\";\n",
    "    }\n",
    "\n",
    "    IEnumerator IEnumerable.GetEnumerator() => GetEnumerator();\n",
    "}\n",
    "foreach (var l in new MyEnumerable())\n",
    "    Console.WriteLine(l);"
   ]
  },
  {
   "cell_type": "markdown",
   "metadata": {},
   "source": [
    "## Fibonacci Enumerator\n",
    "Fibonacci numbers are a sequence of numbers where each number is the sum of the two preceding ones, usually starting with 0 and 1. The sequence starts: 0, 1, 1, 2, 3, 5, 8, 13, 21, 34, ..."
   ]
  },
  {
   "cell_type": "code",
   "execution_count": null,
   "metadata": {
    "dotnet_interactive": {
     "language": "csharp"
    },
    "polyglot_notebook": {
     "kernelName": "csharp"
    },
    "vscode": {
     "languageId": "polyglot-notebook"
    }
   },
   "outputs": [],
   "source": [
    "IEnumerable<int> GetFibonacciNumbers()\n",
    "{\n",
    "    int previous = 0, current = 1;\n",
    "    while (true)\n",
    "    {\n",
    "        yield return previous;\n",
    "        int next = previous + current;\n",
    "        previous = current;\n",
    "        current = next;\n",
    "    }\n",
    "}\n",
    "\n",
    "foreach (int number in GetFibonacciNumbers().Take(10))\n",
    "    Console.WriteLine(number);\n"
   ]
  },
  {
   "cell_type": "markdown",
   "metadata": {},
   "source": [
    "## List"
   ]
  },
  {
   "cell_type": "code",
   "execution_count": null,
   "metadata": {
    "dotnet_interactive": {
     "language": "csharp"
    },
    "polyglot_notebook": {
     "kernelName": "csharp"
    },
    "vscode": {
     "languageId": "polyglot-notebook"
    }
   },
   "outputs": [],
   "source": [
    "var mylist = new List<int> { 1, 2, 3, 4, 5 };\n",
    "mylist.Insert(2, 10); // put a 10 at index 2\n",
    "foreach (var i in mylist)\n",
    "    Console.WriteLine(i);\n",
    "var myllist = new LinkedList<int>(mylist);\n",
    "foreach (var i in myllist)\n",
    "    Console.WriteLine(i);    "
   ]
  },
  {
   "cell_type": "markdown",
   "metadata": {},
   "source": [
    "Sets\n"
   ]
  },
  {
   "cell_type": "code",
   "execution_count": 2,
   "metadata": {
    "dotnet_interactive": {
     "language": "csharp"
    },
    "polyglot_notebook": {
     "kernelName": "csharp"
    },
    "vscode": {
     "languageId": "polyglot-notebook"
    }
   },
   "outputs": [
    {
     "name": "stdout",
     "output_type": "stream",
     "text": [
      "David\n",
      "Marta\n",
      "John\n"
     ]
    }
   ],
   "source": [
    "var names = new HashSet<string>() \n",
    "    { \"David\", \"Marta\", \"John\", \"John\", \"David\" };\n",
    "foreach (var name in names) Console.WriteLine(name);\n"
   ]
  },
  {
   "cell_type": "code",
   "execution_count": 3,
   "metadata": {
    "dotnet_interactive": {
     "language": "csharp"
    },
    "polyglot_notebook": {
     "kernelName": "csharp"
    },
    "vscode": {
     "languageId": "polyglot-notebook"
    }
   },
   "outputs": [
    {
     "name": "stdout",
     "output_type": "stream",
     "text": [
      "David\n",
      "John\n",
      "Marta\n"
     ]
    }
   ],
   "source": [
    "var names = new SortedSet<string>() \n",
    "    { \"David\", \"Marta\", \"John\", \"John\", \"David\" };\n",
    "foreach (var name in names) Console.WriteLine(name);\n"
   ]
  }
 ],
 "metadata": {
  "kernelspec": {
   "display_name": ".NET (C#)",
   "language": "C#",
   "name": ".net-csharp"
  },
  "language_info": {
   "name": "python"
  },
  "polyglot_notebook": {
   "kernelInfo": {
    "defaultKernelName": "csharp",
    "items": [
     {
      "aliases": [],
      "name": "csharp"
     }
    ]
   }
  }
 },
 "nbformat": 4,
 "nbformat_minor": 2
}
