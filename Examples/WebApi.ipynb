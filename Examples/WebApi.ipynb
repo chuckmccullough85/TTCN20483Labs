{
 "cells": [
  {
   "cell_type": "markdown",
   "metadata": {},
   "source": [
    "Beer"
   ]
  },
  {
   "cell_type": "code",
   "execution_count": null,
   "metadata": {
    "dotnet_interactive": {
     "language": "csharp"
    },
    "polyglot_notebook": {
     "kernelName": "csharp"
    },
    "vscode": {
     "languageId": "polyglot-notebook"
    }
   },
   "outputs": [],
   "source": [
    "using System.Net.Http;\n",
    "\n",
    "var client = new HttpClient();\n",
    "var response = client.GetAsync(\"https://api.openbrewerydb.org/v1/breweries?by_city=fort_worth\").Result;\n",
    "var breweries = response.Content.ReadAsStringAsync().Result;\n",
    "Console.WriteLine(breweries);\n"
   ]
  },
  {
   "cell_type": "code",
   "execution_count": null,
   "metadata": {
    "dotnet_interactive": {
     "language": "csharp"
    },
    "polyglot_notebook": {
     "kernelName": "csharp"
    },
    "vscode": {
     "languageId": "polyglot-notebook"
    }
   },
   "outputs": [],
   "source": [
    "using System.Text.Json;\n",
    "// deserialize JSON into record objects\n",
    "\n",
    "public record Brewery(string Id, string Name, string BreweryType, \n",
    "    string Address1, string? Address2, string? Address3,\n",
    "    string City, string StateProvince, string PostalCode, string Country, \n",
    "    string Longitude, string Latitude,\n",
    "    string Phone, string WebsiteUrl, string State, string Street);\n",
    "\n",
    "var options = new JsonSerializerOptions\n",
    "{\n",
    "    PropertyNameCaseInsensitive = true,\n",
    "};\n",
    "\n",
    "var breweriesList = JsonSerializer.Deserialize<List<Brewery>>(breweries, options);\n",
    "\n",
    "foreach (var b in breweriesList)\n",
    "    Console.WriteLine($\"{b.Name} at  {b?.Street ?? b.Address1}\");\n",
    "\n",
    "\n"
   ]
  },
  {
   "cell_type": "code",
   "execution_count": null,
   "metadata": {
    "dotnet_interactive": {
     "language": "csharp"
    },
    "polyglot_notebook": {
     "kernelName": "csharp"
    },
    "vscode": {
     "languageId": "polyglot-notebook"
    }
   },
   "outputs": [],
   "source": [
    "using System.Net.Http;\n",
    "using System.Text.Json;\n",
    "using Microsoft.DotNet.Interactive;\n",
    "\n",
    "var city = await Kernel.GetInputAsync(\"What City? \");\n",
    "city = Uri.EscapeDataString(city);\n",
    "var url = $\"https://api.openbrewerydb.org/v1/breweries?by_city={city}\";\n",
    "\n",
    "var client = new HttpClient();\n",
    "var response = client.GetAsync(url).Result;\n",
    "var breweries = response.Content.ReadAsStringAsync().Result;\n",
    "public record Brewery(string Id, string Name, string BreweryType, \n",
    "    string Address1, string? Address2, string? Address3,\n",
    "    string City, string StateProvince, string PostalCode, string Country, \n",
    "    string Longitude, string Latitude,\n",
    "    string Phone, string WebsiteUrl, string State, string Street);\n",
    "\n",
    "var options = new JsonSerializerOptions\n",
    "{\n",
    "    PropertyNameCaseInsensitive = true,\n",
    "};\n",
    "\n",
    "var breweriesList = JsonSerializer.Deserialize<List<Brewery>>(breweries, options);\n",
    "\n",
    "foreach (var b in breweriesList)\n",
    "    Console.WriteLine($\"{b.Name} at  {b?.Street ?? b.Address1}\");\n"
   ]
  }
 ],
 "metadata": {
  "kernelspec": {
   "display_name": ".NET (C#)",
   "language": "C#",
   "name": ".net-csharp"
  },
  "language_info": {
   "name": "python"
  },
  "polyglot_notebook": {
   "kernelInfo": {
    "defaultKernelName": "csharp",
    "items": [
     {
      "aliases": [],
      "name": "csharp"
     }
    ]
   }
  }
 },
 "nbformat": 4,
 "nbformat_minor": 2
}
