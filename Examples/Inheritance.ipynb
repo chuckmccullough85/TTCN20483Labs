{
 "cells": [
  {
   "cell_type": "markdown",
   "metadata": {},
   "source": [
    "## Inheritance\n",
    "\n",
    "Consider 3 class for a landscaping application:\n",
    "- Circle\n",
    "- Rectangle\n",
    "- Triangle\n",
    "\n",
    "Different designers/programmers implemented each of these classes, yet they come out fairly similar\n"
   ]
  },
  {
   "cell_type": "code",
   "execution_count": 14,
   "metadata": {
    "vscode": {
     "languageId": "polyglot-notebook"
    }
   },
   "outputs": [],
   "source": [
    "public class Circle\n",
    "{\n",
    "    private int radius;\n",
    "    private string color;\n",
    "    private int x;\n",
    "    private int y;\n",
    "\n",
    "    public Circle(int radius)\n",
    "    {\n",
    "        this.radius = radius;\n",
    "    }\n",
    "\n",
    "    public double CalcArea()\n",
    "    {\n",
    "        return radius * radius * Math.PI;\n",
    "    }\n",
    "    // more stuff…\n",
    "}\n"
   ]
  },
  {
   "cell_type": "markdown",
   "metadata": {},
   "source": [
    "Rectangle"
   ]
  },
  {
   "cell_type": "code",
   "execution_count": 15,
   "metadata": {
    "vscode": {
     "languageId": "polyglot-notebook"
    }
   },
   "outputs": [],
   "source": [
    "public class Rectangle\n",
    "{\n",
    "    private int width;\n",
    "    private int height;\n",
    "    private string color;\n",
    "    private int x;\n",
    "    private int y;\n",
    "\n",
    "    public Rectangle(int width, int height)\n",
    "    {\n",
    "        this.width = width;\n",
    "        this.height = height;\n",
    "    }\n",
    "\n",
    "    public double Area => width * height;\n",
    "    // more stuff…\n",
    "}"
   ]
  },
  {
   "cell_type": "markdown",
   "metadata": {},
   "source": [
    "Triangle"
   ]
  },
  {
   "cell_type": "code",
   "execution_count": 16,
   "metadata": {
    "vscode": {
     "languageId": "polyglot-notebook"
    }
   },
   "outputs": [],
   "source": [
    "public class Triangle\n",
    "{\n",
    "    private int basewidth;\n",
    "    private int height;\n",
    "    private string color;\n",
    "    private int x;\n",
    "    private int y;\n",
    "\n",
    "    public Triangle(int w, int h)\n",
    "    {\n",
    "        this.basewidth = w;\n",
    "        this.height = h;\n",
    "    }\n",
    "\n",
    "    public double CalcArea() => basewidth * height / 2;\n",
    "    // more stuff…\n",
    "}"
   ]
  },
  {
   "cell_type": "markdown",
   "metadata": {},
   "source": [
    "Shape"
   ]
  },
  {
   "cell_type": "code",
   "execution_count": 17,
   "metadata": {
    "vscode": {
     "languageId": "polyglot-notebook"
    }
   },
   "outputs": [],
   "source": [
    "public abstract class Shape\n",
    "{\n",
    "    protected uint width;\n",
    "    protected uint height;\n",
    "\n",
    "    public Shape(uint width, uint height)\n",
    "    {\n",
    "        this.width = width;\n",
    "        this.height = height;\n",
    "    }\n",
    "    \n",
    "    public abstract uint Area {get;}\n",
    "}"
   ]
  },
  {
   "cell_type": "code",
   "execution_count": 18,
   "metadata": {
    "vscode": {
     "languageId": "polyglot-notebook"
    }
   },
   "outputs": [],
   "source": [
    "public class Circle : Shape\n",
    "{\n",
    "    public Circle (uint radius)\n",
    "        : base(radius*2, radius*2)\n",
    "    { }\n",
    "\n",
    "    public override uint Area =>(uint)(Math.PI * (width / 2) * (width / 2));\n",
    "}\n"
   ]
  },
  {
   "cell_type": "code",
   "execution_count": 19,
   "metadata": {
    "vscode": {
     "languageId": "polyglot-notebook"
    }
   },
   "outputs": [],
   "source": [
    "public class Rectangle : Shape\n",
    "{\n",
    "    public Rectangle(uint width, uint height)\n",
    "        : base(width, height)\n",
    "    { }\n",
    "\n",
    "    public override uint Area => width * height;\n",
    "}\n"
   ]
  },
  {
   "cell_type": "code",
   "execution_count": 20,
   "metadata": {
    "vscode": {
     "languageId": "polyglot-notebook"
    }
   },
   "outputs": [],
   "source": [
    "public class Triangle : Shape\n",
    "{\n",
    "    public Triangle(uint width, uint height)\n",
    "        : base(width, height)\n",
    "    { }\n",
    "\n",
    "    public override uint Area => width * height / 2;\n",
    "}"
   ]
  },
  {
   "cell_type": "code",
   "execution_count": 21,
   "metadata": {
    "vscode": {
     "languageId": "polyglot-notebook"
    }
   },
   "outputs": [],
   "source": [
    "uint CalcTotalArea (IEnumerable<Shape> shapes)\n",
    "{\n",
    "    uint area = 0;\n",
    "    foreach(Shape s in shapes)\n",
    "        area += s.Area;\n",
    "    return area;\n",
    "}\n"
   ]
  },
  {
   "cell_type": "code",
   "execution_count": 22,
   "metadata": {
    "vscode": {
     "languageId": "polyglot-notebook"
    }
   },
   "outputs": [
    {
     "name": "stdout",
     "output_type": "stream",
     "text": [
      "267\r\n"
     ]
    }
   ],
   "source": [
    " Shape[] shapes = { new Circle(5), new Rectangle(5,6), new Triangle(10,7), \n",
    "                    new Rectangle(12,8), \n",
    "                    new Circle(3) };\n",
    " Console.WriteLine(CalcTotalArea(shapes));\n"
   ]
  },
  {
   "cell_type": "code",
   "execution_count": 23,
   "metadata": {
    "vscode": {
     "languageId": "polyglot-notebook"
    }
   },
   "outputs": [],
   "source": []
  }
 ],
 "metadata": {
  "kernelspec": {
   "display_name": ".NET (C#)",
   "language": "C#",
   "name": ".net-csharp"
  },
  "language_info": {
   "name": "python"
  },
  "polyglot_notebook": {
   "kernelInfo": {
    "defaultKernelName": "csharp",
    "items": [
     {
      "aliases": [],
      "name": "csharp"
     }
    ]
   }
  }
 },
 "nbformat": 4,
 "nbformat_minor": 2
}
