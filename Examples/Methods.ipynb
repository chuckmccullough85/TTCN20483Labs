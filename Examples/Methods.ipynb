{
 "cells": [
  {
   "cell_type": "markdown",
   "metadata": {},
   "source": [
    "## Methods & Paremeters"
   ]
  },
  {
   "cell_type": "code",
   "execution_count": null,
   "metadata": {
    "dotnet_interactive": {
     "language": "csharp"
    },
    "polyglot_notebook": {
     "kernelName": "csharp"
    },
    "vscode": {
     "languageId": "polyglot-notebook"
    }
   },
   "outputs": [],
   "source": [
    "int x = 10;\n",
    "int y = 20;\n",
    "Function (x, y); // x & y are arguments\n",
    "\n",
    "void Function(int p1, int p2) {  // p1 & p2 are parameters\n",
    "  // Function body\n",
    "}"
   ]
  },
  {
   "cell_type": "markdown",
   "metadata": {},
   "source": [
    "### Optional Parameters"
   ]
  },
  {
   "cell_type": "code",
   "execution_count": null,
   "metadata": {
    "dotnet_interactive": {
     "language": "csharp"
    },
    "polyglot_notebook": {
     "kernelName": "csharp"
    },
    "vscode": {
     "languageId": "polyglot-notebook"
    }
   },
   "outputs": [],
   "source": [
    "OptFunc(5); // p1 = 5, p2 = 10\n",
    "OptFunc(5, 15); // p1 = 5, p2 = 15\n",
    "\n",
    "void OptFunc (int p1, int p2 = 10) {  // Default value for p2\n",
    "  // Function body\n",
    "}"
   ]
  },
  {
   "cell_type": "markdown",
   "metadata": {},
   "source": [
    "### Var args\n"
   ]
  },
  {
   "cell_type": "code",
   "execution_count": null,
   "metadata": {
    "dotnet_interactive": {
     "language": "csharp"
    },
    "polyglot_notebook": {
     "kernelName": "csharp"
    },
    "vscode": {
     "languageId": "polyglot-notebook"
    }
   },
   "outputs": [],
   "source": [
    "VarArgs(1, 2, 3, 4, 5); \n",
    "VarArgs(1,2);\n",
    "\n",
    "void VarArgs (int p1, int p2, params int[] p3) {  // Variable number of arguments\n",
    "  foreach (int i in p3) Console.WriteLine(i);\n",
    "}"
   ]
  },
  {
   "cell_type": "code",
   "execution_count": null,
   "metadata": {
    "dotnet_interactive": {
     "language": "csharp"
    },
    "polyglot_notebook": {
     "kernelName": "csharp"
    },
    "vscode": {
     "languageId": "polyglot-notebook"
    }
   },
   "outputs": [],
   "source": [
    "\n",
    "\n",
    "void Func(int a, ref readonly int  b)\n",
    "{\n",
    "    a = 10; // OK\n",
    "    b = 20; // Error\n",
    "}"
   ]
  },
  {
   "cell_type": "markdown",
   "metadata": {},
   "source": [
    "### Pass by value"
   ]
  },
  {
   "cell_type": "code",
   "execution_count": null,
   "metadata": {
    "dotnet_interactive": {
     "language": "csharp"
    },
    "polyglot_notebook": {
     "kernelName": "csharp"
    },
    "vscode": {
     "languageId": "polyglot-notebook"
    }
   },
   "outputs": [],
   "source": [
    "int hage = 13;\n",
    "var result = DogYears(hage);\n",
    "// hage still 13\n",
    "\n",
    "int DogYears(int humanYears)\n",
    "{\n",
    "   return humanYears++ * 7;\n",
    "}\n"
   ]
  },
  {
   "cell_type": "markdown",
   "metadata": {},
   "source": [
    "### Pass By Reference"
   ]
  },
  {
   "cell_type": "code",
   "execution_count": 1,
   "metadata": {
    "dotnet_interactive": {
     "language": "csharp"
    },
    "polyglot_notebook": {
     "kernelName": "csharp"
    },
    "vscode": {
     "languageId": "polyglot-notebook"
    }
   },
   "outputs": [
    {
     "name": "stdout",
     "output_type": "stream",
     "text": [
      "14\r\n"
     ]
    }
   ],
   "source": [
    "class Integer {\n",
    "    public int Value { get; set; }\n",
    "}\n",
    "Integer hage = new Integer { Value = 13 };\n",
    "var result = DogYears(hage);\n",
    "Console.WriteLine(hage.Value); //  14\n",
    "\n",
    "int DogYears(Integer humanYears)\n",
    "{\n",
    "   return humanYears.Value++ * 7;\n",
    "}\n"
   ]
  },
  {
   "cell_type": "code",
   "execution_count": null,
   "metadata": {
    "dotnet_interactive": {
     "language": "csharp"
    },
    "polyglot_notebook": {
     "kernelName": "csharp"
    },
    "vscode": {
     "languageId": "polyglot-notebook"
    }
   },
   "outputs": [],
   "source": [
    "class Integer {\n",
    "    public int Value { get; set; }\n",
    "}\n",
    "Integer hage = new Integer { Value = 13 };\n",
    "var result = DogYears(hage);\n",
    "Console.WriteLine(hage.Value); //  14\n",
    "\n",
    "int DogYears(Integer humanYears)\n",
    "{\n",
    "    var ret = humanYears.Value++ * 7;\n",
    "    humanYears = new Integer { Value = 22 };\n",
    "    return ret;\n",
    "}\n"
   ]
  },
  {
   "cell_type": "markdown",
   "metadata": {},
   "source": [
    "### Pass By Reference with *ref*"
   ]
  },
  {
   "cell_type": "code",
   "execution_count": null,
   "metadata": {
    "dotnet_interactive": {
     "language": "csharp"
    },
    "polyglot_notebook": {
     "kernelName": "csharp"
    },
    "vscode": {
     "languageId": "polyglot-notebook"
    }
   },
   "outputs": [],
   "source": [
    "int hage = 13;\n",
    "var result = DogYears(ref hage);\n",
    "// hage 14\n",
    "\n",
    "int DogYears(ref int humanYears)\n",
    "{\n",
    "   return humanYears++ * 7;\n",
    "}\n"
   ]
  },
  {
   "cell_type": "markdown",
   "metadata": {},
   "source": [
    "### Ref by Reference"
   ]
  },
  {
   "cell_type": "code",
   "execution_count": null,
   "metadata": {
    "dotnet_interactive": {
     "language": "csharp"
    },
    "polyglot_notebook": {
     "kernelName": "csharp"
    },
    "vscode": {
     "languageId": "polyglot-notebook"
    }
   },
   "outputs": [],
   "source": [
    "string name = \"John\";\n",
    "ToUpperCase(ref name);\n",
    "\n",
    "void ToUpperCase(ref string str)\n",
    "{    \n",
    "    str = str.ToUpper();\n",
    "}"
   ]
  },
  {
   "cell_type": "code",
   "execution_count": null,
   "metadata": {
    "vscode": {
     "languageId": "polyglot-notebook"
    }
   },
   "outputs": [],
   "source": []
  },
  {
   "cell_type": "markdown",
   "metadata": {},
   "source": [
    "### out"
   ]
  },
  {
   "cell_type": "code",
   "execution_count": null,
   "metadata": {
    "dotnet_interactive": {
     "language": "csharp"
    },
    "polyglot_notebook": {
     "kernelName": "csharp"
    },
    "vscode": {
     "languageId": "polyglot-notebook"
    }
   },
   "outputs": [],
   "source": [
    "string today;\n",
    "Today(out today);\n",
    "Console.WriteLine(today);\n",
    "Today(out string t);  // declared inline\n",
    "Console.WriteLine(t);   \n",
    "\n",
    "void Today (out string today)\n",
    "{\n",
    "    today = DateTime.Now.DayOfWeek.ToString();\n",
    "}"
   ]
  },
  {
   "cell_type": "markdown",
   "metadata": {},
   "source": [
    "### Expression Methods"
   ]
  },
  {
   "cell_type": "code",
   "execution_count": null,
   "metadata": {
    "vscode": {
     "languageId": "polyglot-notebook"
    }
   },
   "outputs": [],
   "source": [
    "int Fahr2Cel(int fahr)\n",
    "{\n",
    "    return (fahr - 32) * 5 / 9;\n",
    "}\n",
    "\n",
    "int Fahr2Cel(int fahr) => (fahr - 32) * 5 / 9;"
   ]
  }
 ],
 "metadata": {
  "kernelspec": {
   "display_name": ".NET (C#)",
   "language": "C#",
   "name": ".net-csharp"
  },
  "language_info": {
   "name": "python"
  },
  "polyglot_notebook": {
   "kernelInfo": {
    "defaultKernelName": "csharp",
    "items": [
     {
      "aliases": [],
      "name": "csharp"
     }
    ]
   }
  }
 },
 "nbformat": 4,
 "nbformat_minor": 2
}
