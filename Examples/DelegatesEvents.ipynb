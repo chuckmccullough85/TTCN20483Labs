{
 "cells": [
  {
   "cell_type": "markdown",
   "metadata": {},
   "source": [
    "## Delegates\n",
    "\n",
    "Some simple delegate examples"
   ]
  },
  {
   "cell_type": "code",
   "execution_count": 3,
   "metadata": {
    "dotnet_interactive": {
     "language": "csharp"
    },
    "polyglot_notebook": {
     "kernelName": "csharp"
    },
    "vscode": {
     "languageId": "polyglot-notebook"
    }
   },
   "outputs": [
    {
     "name": "stdout",
     "output_type": "stream",
     "text": [
      "Hello, World!\r\n"
     ]
    }
   ],
   "source": [
    "void Speak() {\n",
    "   Console.WriteLine(\"Hello, World!\");\n",
    "}\n",
    "void Beep() {\n",
    "   Console.Beep();\n",
    "}\n",
    "Speak();\n",
    "Beep();"
   ]
  },
  {
   "cell_type": "markdown",
   "metadata": {},
   "source": [
    "Now, create a method that takes a function as a parameter and calls it at some point. This is a delegate.\n",
    "\n",
    "Our `Doit` method could be a method in a library that performs some complex algorithm.  The library doesn't know what type of application this is, but needs to let the user know when it is finished.  So, the delegate is passed in and called when the algorithm is finished.\n",
    "\n",
    "The application developer can provide an appropriate method that will be called when the algorithm is finished.\n"
   ]
  },
  {
   "cell_type": "code",
   "execution_count": 4,
   "metadata": {
    "dotnet_interactive": {
     "language": "csharp"
    },
    "polyglot_notebook": {
     "kernelName": "csharp"
    },
    "vscode": {
     "languageId": "polyglot-notebook"
    }
   },
   "outputs": [
    {
     "name": "stdout",
     "output_type": "stream",
     "text": [
      "Doing it...\n",
      "Hello, World!\n",
      "Doing it...\n"
     ]
    }
   ],
   "source": [
    "delegate void SpeakDelegate();\n",
    "\n",
    "void Doit(SpeakDelegate speaker) {\n",
    "   Console.WriteLine(\"Doing it...\"); \n",
    "   speaker();\n",
    "}\n",
    "\n",
    "Doit(Speak);\n",
    "Doit(Beep);"
   ]
  },
  {
   "cell_type": "markdown",
   "metadata": {},
   "source": [
    ".Net already has a bunch of delegates defined.\n",
    "- Action - void return type. may have zero or more parameters\n",
    "- Func - has a return type. may have zero or more parameters\n",
    "- Predicate - returns a boolean. has one parameter\n",
    "\n",
    "Let's redo the example using the built-in delegates.\n"
   ]
  },
  {
   "cell_type": "code",
   "execution_count": 5,
   "metadata": {
    "dotnet_interactive": {
     "language": "csharp"
    },
    "polyglot_notebook": {
     "kernelName": "csharp"
    },
    "vscode": {
     "languageId": "polyglot-notebook"
    }
   },
   "outputs": [
    {
     "name": "stdout",
     "output_type": "stream",
     "text": [
      "Doing it...\n",
      "Hello, World!\n",
      "Doing it...\n"
     ]
    }
   ],
   "source": [
    "void Doit2(Action speaker) {\n",
    "   Console.WriteLine(\"Doing it...\"); \n",
    "   speaker();\n",
    "}\n",
    "\n",
    "Doit2(Speak);\n",
    "Doit2(Beep);"
   ]
  },
  {
   "cell_type": "markdown",
   "metadata": {},
   "source": [
    "Multicasting is also possible with delegates.  This is where you can add multiple methods to a delegate.  When the delegate is called, all the methods are called in the order they were added.\n",
    "\n"
   ]
  },
  {
   "cell_type": "code",
   "execution_count": 7,
   "metadata": {
    "dotnet_interactive": {
     "language": "csharp"
    },
    "polyglot_notebook": {
     "kernelName": "csharp"
    },
    "vscode": {
     "languageId": "polyglot-notebook"
    }
   },
   "outputs": [
    {
     "name": "stdout",
     "output_type": "stream",
     "text": [
      "Doing it...\n",
      "Hello, World!\n"
     ]
    }
   ],
   "source": [
    "Action a1 = Speak;\n",
    "Action a2 = Beep;\n",
    "Doit2(a1+a2);\n"
   ]
  },
  {
   "cell_type": "markdown",
   "metadata": {},
   "source": [
    "# Events"
   ]
  },
  {
   "cell_type": "code",
   "execution_count": 2,
   "metadata": {
    "dotnet_interactive": {
     "language": "csharp"
    },
    "polyglot_notebook": {
     "kernelName": "csharp"
    },
    "vscode": {
     "languageId": "polyglot-notebook"
    }
   },
   "outputs": [
    {
     "name": "stdout",
     "output_type": "stream",
     "text": [
      "Name changed from  to Fido\r\n"
     ]
    }
   ],
   "source": [
    "#nullable enable\n",
    "\n",
    "delegate void ChangeNotify(string oldValue, string newValue);\n",
    "class Dog {\n",
    "    private string name;\n",
    "\n",
    "    public event ChangeNotify? NameChanged;\n",
    "    public string Name\n",
    "    {\n",
    "        get { return name; }\n",
    "        set \n",
    "        { \n",
    "            if (name != value)\n",
    "                NameChanged?.Invoke(name, value);\n",
    "\n",
    "            name = value; \n",
    "        }\n",
    "    }\n",
    "}\n",
    "\n",
    "void OnNameChanged(string oldValue, string newValue) {\n",
    "    Console.WriteLine($\"Name changed from {oldValue} to {newValue}\");\n",
    "}\n",
    "\n",
    "var d = new Dog();\n",
    "d.NameChanged += OnNameChanged;\n",
    "d.Name = \"Fido\";\n"
   ]
  }
 ],
 "metadata": {
  "kernelspec": {
   "display_name": ".NET (C#)",
   "language": "C#",
   "name": ".net-csharp"
  },
  "language_info": {
   "name": "python"
  },
  "polyglot_notebook": {
   "kernelInfo": {
    "defaultKernelName": "csharp",
    "items": [
     {
      "aliases": [],
      "name": "csharp"
     }
    ]
   }
  }
 },
 "nbformat": 4,
 "nbformat_minor": 2
}
