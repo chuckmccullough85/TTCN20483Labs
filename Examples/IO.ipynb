{
 "cells": [
  {
   "cell_type": "markdown",
   "metadata": {},
   "source": [
    "# IO\n",
    "\n",
    "First, simple file IO."
   ]
  },
  {
   "cell_type": "code",
   "execution_count": null,
   "metadata": {
    "dotnet_interactive": {
     "language": "csharp"
    },
    "polyglot_notebook": {
     "kernelName": "csharp"
    },
    "vscode": {
     "languageId": "polyglot-notebook"
    }
   },
   "outputs": [],
   "source": [
    "using System.IO;\n",
    "using System.Text;\n",
    "\n",
    "// write a double and string to a file\n",
    "using (var fs = new FileStream(\"output.bin\", FileMode.Create, FileAccess.Write))\n",
    "{\n",
    "    var pi = 3.14159;\n",
    "    var bytes = BitConverter.GetBytes(pi);\n",
    "    fs.Write(bytes, 0, bytes.Length);\n",
    "    var text = \"This is example text\";\n",
    "    bytes = Encoding.UTF8.GetBytes(text);\n",
    "    fs.Write (BitConverter.GetBytes(bytes.Length), 0, sizeof(int));\n",
    "    fs.Write(bytes, 0, bytes.Length);\n",
    "}\n"
   ]
  },
  {
   "cell_type": "code",
   "execution_count": null,
   "metadata": {
    "dotnet_interactive": {
     "language": "csharp"
    },
    "polyglot_notebook": {
     "kernelName": "csharp"
    },
    "vscode": {
     "languageId": "polyglot-notebook"
    }
   },
   "outputs": [],
   "source": [
    "using (var ifs = new FileStream(\"output.bin\", FileMode.Open, FileAccess.Read))\n",
    "{\n",
    "    byte[] dbuffer = new byte[sizeof(double)];\n",
    "    ifs.Read(dbuffer, 0, dbuffer.Length);\n",
    "    var pi = BitConverter.ToDouble(dbuffer);\n",
    "    Console.WriteLine(pi);\n",
    "    ifs.Read(dbuffer, 0, sizeof(int));\n",
    "    var length = BitConverter.ToInt32(dbuffer);\n",
    "    Console.WriteLine(length);\n",
    "    var bytes = new byte[length];\n",
    "    ifs.Read(bytes, 0, bytes.Length);\n",
    "    var text = Encoding.UTF8.GetString(bytes);\n",
    "    Console.WriteLine(text);\n",
    "}\n"
   ]
  },
  {
   "cell_type": "markdown",
   "metadata": {},
   "source": [
    "## Binary Reader/Writer"
   ]
  },
  {
   "cell_type": "code",
   "execution_count": 5,
   "metadata": {
    "dotnet_interactive": {
     "language": "csharp"
    },
    "polyglot_notebook": {
     "kernelName": "csharp"
    },
    "vscode": {
     "languageId": "polyglot-notebook"
    }
   },
   "outputs": [],
   "source": [
    "using (var bw = new BinaryWriter(new FileStream(\"bwoutput.bin\", FileMode.Create)))\n",
    "{\n",
    "    bw.Write(3.14159);\n",
    "    bw.Write(\"This is example text\");\n",
    "}"
   ]
  },
  {
   "cell_type": "code",
   "execution_count": null,
   "metadata": {
    "dotnet_interactive": {
     "language": "csharp"
    },
    "polyglot_notebook": {
     "kernelName": "csharp"
    },
    "vscode": {
     "languageId": "polyglot-notebook"
    }
   },
   "outputs": [],
   "source": [
    "using (var br = new BinaryReader(new FileStream(\"bwoutput.bin\", FileMode.Open)))\n",
    "{\n",
    "    var pi = br.ReadDouble();\n",
    "    Console.WriteLine(pi);\n",
    "    var text = br.ReadString();\n",
    "    Console.WriteLine(text);\n",
    "}"
   ]
  },
  {
   "cell_type": "markdown",
   "metadata": {},
   "source": [
    "Decorator pattern"
   ]
  },
  {
   "cell_type": "code",
   "execution_count": null,
   "metadata": {
    "dotnet_interactive": {
     "language": "csharp"
    },
    "polyglot_notebook": {
     "kernelName": "csharp"
    },
    "vscode": {
     "languageId": "polyglot-notebook"
    }
   },
   "outputs": [],
   "source": [
    "var ifs = new FileStream(\"output.bin\", FileMode.Open, FileAccess.Read);\n",
    "var bs = new BufferedStream(ifs);\n",
    "var br = new BinaryReader(bs);\n",
    "br.Close(); // closes the underlying streams"
   ]
  },
  {
   "cell_type": "markdown",
   "metadata": {},
   "source": [
    "Text Reader/Writer"
   ]
  },
  {
   "cell_type": "code",
   "execution_count": 7,
   "metadata": {
    "dotnet_interactive": {
     "language": "csharp"
    },
    "polyglot_notebook": {
     "kernelName": "csharp"
    },
    "vscode": {
     "languageId": "polyglot-notebook"
    }
   },
   "outputs": [],
   "source": [
    "{\n",
    "    using var ofw = new StreamWriter(\"output.txt\");\n",
    "    ofw.WriteLine(\"This is example text\");\n",
    "}"
   ]
  },
  {
   "cell_type": "code",
   "execution_count": null,
   "metadata": {
    "dotnet_interactive": {
     "language": "csharp"
    },
    "polyglot_notebook": {
     "kernelName": "csharp"
    },
    "vscode": {
     "languageId": "polyglot-notebook"
    }
   },
   "outputs": [],
   "source": [
    "{\n",
    "    using var ifr = new StreamReader(\"output.txt\");\n",
    "    var text = ifr.ReadLine();\n",
    "    Console.WriteLine(text);\n",
    "}"
   ]
  },
  {
   "cell_type": "markdown",
   "metadata": {},
   "source": [
    "JSON"
   ]
  },
  {
   "cell_type": "code",
   "execution_count": null,
   "metadata": {
    "dotnet_interactive": {
     "language": "csharp"
    },
    "polyglot_notebook": {
     "kernelName": "csharp"
    },
    "vscode": {
     "languageId": "polyglot-notebook"
    }
   },
   "outputs": [],
   "source": [
    "using System.Text.Json;\n",
    "record Address(string Street, string City, string State, string Zip);\n",
    "record Person(string Name, int Age, Address Address);\n",
    "\n",
    "var people = new Person[] {\n",
    "    new (\"Hank Hill\", 30, new Address(\"123 Main St\", \"Arlen\", \"TX\", \"77071\")),\n",
    "    new (\"Bobby Hill\", 12, new Address(\"123 Main St\", \"Arlen\", \"TX\", \"77071\")),\n",
    "    new (\"Peggy Hill\", 32, new Address(\"123 Main St\", \"Arlen\", \"TX\", \"77071\"))};\n",
    "\n",
    "var options = new JsonSerializerOptions { WriteIndented = true };\n",
    "var json = JsonSerializer.Serialize(people, options);\n",
    "Console.WriteLine(json);\n"
   ]
  },
  {
   "cell_type": "code",
   "execution_count": 11,
   "metadata": {
    "dotnet_interactive": {
     "language": "csharp"
    },
    "polyglot_notebook": {
     "kernelName": "csharp"
    },
    "vscode": {
     "languageId": "polyglot-notebook"
    }
   },
   "outputs": [
    {
     "name": "stdout",
     "output_type": "stream",
     "text": [
      "Person { Name = Hank Hill, Age = 30, Address = Address { Street = 123 Main St, City = Arlen, State = TX, Zip = 77071 } }\n",
      "Person { Name = Bobby Hill, Age = 12, Address = Address { Street = 123 Main St, City = Arlen, State = TX, Zip = 77071 } }\n",
      "Person { Name = Peggy Hill, Age = 32, Address = Address { Street = 123 Main St, City = Arlen, State = TX, Zip = 77071 } }\n"
     ]
    }
   ],
   "source": [
    "var people2 = JsonSerializer.Deserialize<Person[]>(json);\n",
    "foreach (var person in people2)\n",
    "    Console.WriteLine(person);\n"
   ]
  }
 ],
 "metadata": {
  "kernelspec": {
   "display_name": ".NET (C#)",
   "language": "C#",
   "name": ".net-csharp"
  },
  "language_info": {
   "name": "python"
  },
  "polyglot_notebook": {
   "kernelInfo": {
    "defaultKernelName": "csharp",
    "items": [
     {
      "aliases": [],
      "name": "csharp"
     }
    ]
   }
  }
 },
 "nbformat": 4,
 "nbformat_minor": 2
}
