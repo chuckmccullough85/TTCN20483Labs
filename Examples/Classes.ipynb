{
 "cells": [
  {
   "cell_type": "markdown",
   "metadata": {},
   "source": [
    "## Classes and Objects\n",
    "\n",
    "### Class Basics"
   ]
  },
  {
   "cell_type": "code",
   "execution_count": 1,
   "metadata": {
    "dotnet_interactive": {
     "language": "csharp"
    },
    "polyglot_notebook": {
     "kernelName": "csharp"
    },
    "vscode": {
     "languageId": "polyglot-notebook"
    }
   },
   "outputs": [],
   "source": [
    "public class Dog\n",
    "{\n",
    "    private string name;\n",
    "    private int weight;\n",
    "\n",
    "    public Dog(string name, int weight)\n",
    "    {\n",
    "        this.name = name;\n",
    "        this.weight = weight\n",
    ";\n",
    "    }\n",
    "\n",
    "    public void Speak()\n",
    "    {\n",
    "        if (weight < 5)\n",
    "            Console.WriteLine(\"yapyapyap\");\n",
    "        else\n",
    "            Console.WriteLine(\"WOOF!\");\n",
    "    }\n",
    "    public void Eat()\n",
    "    {\n",
    "        weight++;\n",
    "    }\n",
    "    public void Exercise()\n",
    "    {\n",
    "        weight--;\n",
    "    }\n",
    "}"
   ]
  },
  {
   "cell_type": "code",
   "execution_count": null,
   "metadata": {
    "dotnet_interactive": {
     "language": "csharp"
    },
    "polyglot_notebook": {
     "kernelName": "csharp"
    },
    "vscode": {
     "languageId": "polyglot-notebook"
    }
   },
   "outputs": [],
   "source": [
    "Dog d1 = new Dog(\"Fido\", 10);\n",
    "Dog d2 = new Dog(\"Rover\", 12);\n",
    "d1.Speak();\n",
    "d2.Speak();\n",
    "d1.Exercise();\n",
    "d2.Eat();\n",
    "d1.Speak();\n",
    "d2.Speak();\n",
    "d1.Eat();\n",
    "d1.Eat();\n",
    "d1.Speak();\n"
   ]
  },
  {
   "cell_type": "markdown",
   "metadata": {},
   "source": [
    "#### Circle Class"
   ]
  },
  {
   "cell_type": "code",
   "execution_count": null,
   "metadata": {
    "dotnet_interactive": {
     "language": "csharp"
    },
    "polyglot_notebook": {
     "kernelName": "csharp"
    },
    "vscode": {
     "languageId": "polyglot-notebook"
    }
   },
   "outputs": [],
   "source": [
    "class Circle\n",
    "{\n",
    "    public double radius;\n",
    "    public Circle(double radius)\n",
    "    {\n",
    "        this.radius = radius;\n",
    "    }\n",
    "    public double GetArea()\n",
    "    {\n",
    "        return Math.PI * radius * radius;\n",
    "    }\n",
    "    public double GetCircumference()\n",
    "    {\n",
    "        return 2 * Math.PI * radius;\n",
    "    }\n",
    "}\n"
   ]
  },
  {
   "cell_type": "markdown",
   "metadata": {},
   "source": [
    "### Properties\n",
    "Example of circle properties"
   ]
  },
  {
   "cell_type": "code",
   "execution_count": 3,
   "metadata": {
    "dotnet_interactive": {
     "language": "csharp"
    },
    "polyglot_notebook": {
     "kernelName": "csharp"
    },
    "vscode": {
     "languageId": "polyglot-notebook"
    }
   },
   "outputs": [],
   "source": [
    "class Circle\n",
    "{\n",
    "    private double radius;\n",
    "\n",
    "    public double Radius\n",
    "    {\n",
    "        get { return radius; }\n",
    "        set { radius = value; }\n",
    "    }\n",
    "    public double Area\n",
    "    {\n",
    "        get { return Math.PI * radius * radius; }\n",
    "        set { radius = Math.Sqrt(value / Math.PI); }\n",
    "    }\n",
    "\n",
    "    public double Circumference\n",
    "    {\n",
    "        get { return 2 * Math.PI * radius; }\n",
    "        set { radius = value / (2 * Math.PI); }\n",
    "    }\n",
    "\n",
    "    public double Diameter\n",
    "    {\n",
    "        get { return 2 * radius; }\n",
    "        set { radius = value / 2; }\n",
    "    }\n",
    "}\n"
   ]
  },
  {
   "cell_type": "markdown",
   "metadata": {},
   "source": [
    "Primary constructor"
   ]
  },
  {
   "cell_type": "code",
   "execution_count": null,
   "metadata": {
    "dotnet_interactive": {
     "language": "csharp"
    },
    "polyglot_notebook": {
     "kernelName": "csharp"
    },
    "vscode": {
     "languageId": "polyglot-notebook"
    }
   },
   "outputs": [],
   "source": [
    "class Circle (double radius)\n",
    "{\n",
    "    public double Radius { get; set; } = radius;\n",
    "    public double Area\n",
    "    {\n",
    "        get => Math.PI * Radius * Radius; \n",
    "        set => Radius = Math.Sqrt(value / Math.PI); \n",
    "    }\n",
    "\n",
    "    public double Circumference\n",
    "    {\n",
    "        get => 2 * Math.PI * Radius; \n",
    "        set => Radius = value / (2 * Math.PI); \n",
    "    }\n",
    "\n",
    "    public double Diameter\n",
    "    {\n",
    "        get => 2 * Radius; \n",
    "        set => Radius = value / 2; \n",
    "    }\n",
    "}\n"
   ]
  }
 ],
 "metadata": {
  "kernelspec": {
   "display_name": ".NET (C#)",
   "language": "C#",
   "name": ".net-csharp"
  },
  "language_info": {
   "name": "python"
  },
  "polyglot_notebook": {
   "kernelInfo": {
    "defaultKernelName": "csharp",
    "items": [
     {
      "aliases": [],
      "name": "csharp"
     }
    ]
   }
  }
 },
 "nbformat": 4,
 "nbformat_minor": 2
}
