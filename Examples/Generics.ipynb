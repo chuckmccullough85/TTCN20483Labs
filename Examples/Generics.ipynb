{
 "cells": [
  {
   "cell_type": "markdown",
   "metadata": {},
   "source": [
    "## Generics\n",
    "\n",
    "Overloaded methods"
   ]
  },
  {
   "cell_type": "code",
   "execution_count": 2,
   "metadata": {
    "vscode": {
     "languageId": "polyglot-notebook"
    }
   },
   "outputs": [
    {
     "name": "stdout",
     "output_type": "stream",
     "text": [
      "2\n",
      "2\n",
      "b\n"
     ]
    }
   ],
   "source": [
    "int Max (int x, int y)\n",
    "{\n",
    "    return x.CompareTo(y) > 0 ? x : y;\n",
    "}\n",
    "double Max (double x, double y)\n",
    "{\n",
    "    return x.CompareTo(y) > 0 ? x : y;\n",
    "}\n",
    "string Max (string x, string y)\n",
    "{\n",
    "    return x.CompareTo(y) > 0 ? x : y;\n",
    "}\n",
    "\n",
    "Console.WriteLine(Max(1, 2)); // 2\n",
    "Console.WriteLine(Max(1.0, 2.0)); // 2\n",
    "Console.WriteLine(Max(\"a\", \"b\")); // b"
   ]
  },
  {
   "cell_type": "markdown",
   "metadata": {},
   "source": [
    "## Max generic"
   ]
  },
  {
   "cell_type": "code",
   "execution_count": null,
   "metadata": {
    "vscode": {
     "languageId": "polyglot-notebook"
    }
   },
   "outputs": [],
   "source": [
    "T Max<T> (T x, T y) where T : IComparable<T>\n",
    "{\n",
    "    return x.CompareTo(y) > 0 ? x : y;\n",
    "}"
   ]
  },
  {
   "cell_type": "markdown",
   "metadata": {},
   "source": [
    "Generic class"
   ]
  },
  {
   "cell_type": "code",
   "execution_count": null,
   "metadata": {
    "vscode": {
     "languageId": "polyglot-notebook"
    }
   },
   "outputs": [],
   "source": [
    "public class MyGeneric<T>\n",
    "{\n",
    "    private T item;\n",
    "    public MyGeneric(T i)\n",
    "    {\n",
    "        item = i;\n",
    "    }\n",
    "    public T TheItem\n",
    "    {\n",
    "        get { return item; }\n",
    "        set { item = value; }\n",
    "    }\n",
    "}\n",
    "\n",
    "var intGeneric = new MyGeneric<int>(1);\n",
    "var floatGeneric = new MyGeneric<float>(1.0f);"
   ]
  }
 ],
 "metadata": {
  "kernelspec": {
   "display_name": ".NET (C#)",
   "language": "C#",
   "name": ".net-csharp"
  },
  "language_info": {
   "name": "python"
  },
  "polyglot_notebook": {
   "kernelInfo": {
    "defaultKernelName": "csharp",
    "items": [
     {
      "aliases": [],
      "name": "csharp"
     }
    ]
   }
  }
 },
 "nbformat": 4,
 "nbformat_minor": 2
}
