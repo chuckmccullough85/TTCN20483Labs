{
 "cells": [
  {
   "cell_type": "markdown",
   "metadata": {},
   "source": [
    "# C# Syntax Overview\n"
   ]
  },
  {
   "cell_type": "code",
   "execution_count": null,
   "metadata": {
    "dotnet_interactive": {
     "language": "csharp"
    },
    "polyglot_notebook": {
     "kernelName": "csharp"
    },
    "vscode": {
     "languageId": "polyglot-notebook"
    }
   },
   "outputs": [],
   "source": [
    "// Case-sensitive example\n",
    "int myVariable = 5;\n",
    "int MyVariable = 10;\n",
    "\n",
    "Console.WriteLine(myVariable); // Output: 5\n",
    "Console.WriteLine(MyVariable); // Output: 10"
   ]
  },
  {
   "cell_type": "markdown",
   "metadata": {},
   "source": [
    "## Various Primitive Data Types in C#:\n",
    "- **bool**: Boolean value (true or false)\n",
    "- **byte**: 8-bit unsigned integer\n",
    "- **sbyte**: 8-bit signed integer\n",
    "- **char**: 16-bit Unicode character\n",
    "- **short**: 16-bit signed integer\n",
    "- **ushort**: 16-bit unsigned integer\n",
    "- **int**: 32-bit signed integer\n",
    "- **uint**: 32-bit unsigned integer\n",
    "- **long**: 64-bit signed integer\n",
    "- **ulong**: 64-bit unsigned integer\n",
    "- **float**: 32-bit single-precision floating point\n",
    "- **double**: 64-bit double-precision floating point\n",
    "- **decimal**: 128-bit precise decimal values with 28-29 significant digits\n",
    "- **string**: A sequence of characters"
   ]
  },
  {
   "cell_type": "markdown",
   "metadata": {
    "vscode": {
     "languageId": "polyglot-notebook"
    }
   },
   "source": [
    "## Value Ranges for C# Type Keywords:\n",
    "- **bool**: `true` or `false`\n",
    "- **byte**: 0 to 255\n",
    "- **sbyte**: -128 to 127\n",
    "- **char**: U+0000 to U+FFFF (Unicode characters)\n",
    "- **short**: -32,768 to 32,767\n",
    "- **ushort**: 0 to 65,535\n",
    "- **int**: -2,147,483,648 to 2,147,483,647\n",
    "- **uint**: 0 to 4,294,967,295\n",
    "- **long**: -9,223,372,036,854,775,808 to 9,223,372,036,854,775,807\n",
    "- **ulong**: 0 to 18,446,744,073,709,551,615\n",
    "- **float**: ±1.5e−45 to ±3.4e38 (7 significant digits)\n",
    "- **double**: ±5.0e−324 to ±1.7e308 (15-16 significant digits)\n",
    "- **decimal**: ±1.0e−28 to ±7.9e28 (28-29 significant digits)\n",
    "- **string**: A sequence of characters (no fixed range)"
   ]
  },
  {
   "cell_type": "code",
   "execution_count": null,
   "metadata": {
    "dotnet_interactive": {
     "language": "csharp"
    },
    "polyglot_notebook": {
     "kernelName": "csharp"
    },
    "vscode": {
     "languageId": "polyglot-notebook"
    }
   },
   "outputs": [],
   "source": [
    "bool boolVar = true;\n",
    "byte byteVar = 255;\n",
    "sbyte sbyteVar = -128;\n",
    "char charVar = 'A';\n",
    "short shortVar = -32768;\n",
    "ushort ushortVar = 65535;\n",
    "int intVar = -2147483648;\n",
    "uint uintVar = 4294967295;\n",
    "long longVar = -9223372036854775808;\n",
    "ulong ulongVar = 18446744073709551615;\n",
    "float floatVar = 3.14f;\n",
    "double doubleVar = 3.141592653589793;\n",
    "decimal decimalVar = 79228162514264337593543950335m;\n",
    "string stringVar = \"Hello, World!\";\n",
    "\n",
    "Console.WriteLine($\"bool: {boolVar}\");\n",
    "Console.WriteLine($\"byte: {byteVar}\");\n",
    "Console.WriteLine($\"sbyte: {sbyteVar}\");\n",
    "Console.WriteLine($\"char: {charVar}\");\n",
    "Console.WriteLine($\"short: {shortVar}\");\n",
    "Console.WriteLine($\"ushort: {ushortVar}\");\n",
    "Console.WriteLine($\"int: {intVar}\");\n",
    "Console.WriteLine($\"uint: {uintVar}\");\n",
    "Console.WriteLine($\"long: {longVar}\");\n",
    "Console.WriteLine($\"ulong: {ulongVar}\");\n",
    "Console.WriteLine($\"float: {floatVar}\");\n",
    "Console.WriteLine($\"double: {doubleVar}\");\n",
    "Console.WriteLine($\"decimal: {decimalVar}\");\n",
    "Console.WriteLine($\"string: {stringVar}\");"
   ]
  },
  {
   "cell_type": "markdown",
   "metadata": {},
   "source": [
    "## .Net types and C# types:\n",
    "- **.Net types**: These are the types that are defined in the .Net framework. They are the base types that are used to define the C# types.\n",
    "- **C# types**: These are the types that are defined in the C# language. They are derived from the .Net types.\n",
    "\n"
   ]
  },
  {
   "cell_type": "code",
   "execution_count": null,
   "metadata": {
    "dotnet_interactive": {
     "language": "csharp"
    },
    "polyglot_notebook": {
     "kernelName": "csharp"
    },
    "vscode": {
     "languageId": "polyglot-notebook"
    }
   },
   "outputs": [],
   "source": [
    "int x = 5;      // C# keyword\n",
    "Int32 y = 10;   // .NET Framework type"
   ]
  },
  {
   "cell_type": "markdown",
   "metadata": {},
   "source": [
    "## Formatting and braces:"
   ]
  },
  {
   "cell_type": "code",
   "execution_count": null,
   "metadata": {
    "dotnet_interactive": {
     "language": "csharp"
    },
    "polyglot_notebook": {
     "kernelName": "csharp"
    },
    "vscode": {
     "languageId": "polyglot-notebook"
    }
   },
   "outputs": [],
   "source": [
    "for (int i = 0; i < 5; i++)\n",
    "{\n",
    "    Console.WriteLine(i);\n",
    "}\n",
    "\n",
    "for (int i = 0; i < 5; i++) Console.WriteLine(i);"
   ]
  },
  {
   "cell_type": "markdown",
   "metadata": {},
   "source": [
    "## Top Level Statements:\n",
    "- **Top-level statements**: These are the statements that are not enclosed in a class or a namespace. They are used to define the entry point of the program. They are used to define the main method of the program.\n",
    "\n"
   ]
  },
  {
   "cell_type": "code",
   "execution_count": null,
   "metadata": {
    "dotnet_interactive": {
     "language": "csharp"
    },
    "polyglot_notebook": {
     "kernelName": "csharp"
    },
    "vscode": {
     "languageId": "polyglot-notebook"
    }
   },
   "outputs": [],
   "source": [
    "// Top Level Statements\n",
    "Console.WriteLine(\"Hello, World!\");"
   ]
  },
  {
   "cell_type": "code",
   "execution_count": null,
   "metadata": {
    "dotnet_interactive": {
     "language": "csharp"
    },
    "polyglot_notebook": {
     "kernelName": "csharp"
    },
    "vscode": {
     "languageId": "polyglot-notebook"
    }
   },
   "outputs": [],
   "source": [
    "// Formal class definition\n",
    "internal class Program\n",
    "{\n",
    "    private static void Main()\n",
    "    {\n",
    "        Console.WriteLine(\"Hello, World!\");\n",
    "    }\n",
    "}"
   ]
  }
 ],
 "metadata": {
  "kernelspec": {
   "display_name": ".NET (C#)",
   "language": "C#",
   "name": ".net-csharp"
  },
  "language_info": {
   "name": "python"
  },
  "polyglot_notebook": {
   "kernelInfo": {
    "defaultKernelName": "csharp",
    "items": [
     {
      "aliases": [],
      "name": "csharp"
     }
    ]
   }
  }
 },
 "nbformat": 4,
 "nbformat_minor": 2
}
