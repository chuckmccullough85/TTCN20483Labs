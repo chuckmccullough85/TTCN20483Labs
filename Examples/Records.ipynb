{
 "cells": [
  {
   "cell_type": "markdown",
   "metadata": {},
   "source": [
    "## Records\n",
    "\n",
    "The simplest and most common record definition is the *positional* type."
   ]
  },
  {
   "cell_type": "code",
   "execution_count": null,
   "metadata": {
    "dotnet_interactive": {
     "language": "csharp"
    },
    "polyglot_notebook": {
     "kernelName": "csharp"
    },
    "vscode": {
     "languageId": "polyglot-notebook"
    }
   },
   "outputs": [],
   "source": [
    "using System.Drawing;\n",
    "\n",
    "// use capital first letter for record parameters as they become properties\n",
    "public record DogInfo (string Name, int Weight, Color Color);\n",
    "\n",
    "var dog = new DogInfo(\"Fido\", 20, Color.Brown);\n",
    "var dog2 = new DogInfo (\"Fido\", 20, Color.Brown);\n",
    "var dog3 = new DogInfo(\"Rex\", 20, Color.Yellow);\n",
    "\n",
    "// equal if properties are equal\n",
    "Console.WriteLine(dog == dog2); // True\n",
    "Console.WriteLine(dog == dog3); // False\n",
    "\n",
    "// hash code is based on properties\n",
    "Console.WriteLine(dog.GetHashCode());\n",
    "Console.WriteLine(dog2.GetHashCode());\n",
    "\n",
    "// ToString() is overridden to show properties\n",
    "Console.WriteLine(dog); // DogInfo { Name = Fido, Weight = 20, Color = Color [Brown] }\n",
    "\n",
    "// deconstruct to properties\n",
    "var (name, weight, color) = dog;\n",
    "\n",
    "// immutable\n",
    "// dog.Name = \"Rex\"; // Error\n",
    "\n",
    "// with expression to create a new record with some properties changed\n",
    "var dog4 = dog with { Name = \"Rex\" };"
   ]
  },
  {
   "cell_type": "markdown",
   "metadata": {},
   "source": [
    "## Positional Record with additional properties\n",
    "\n",
    "Records can have positional parameters that generate properties and a constructor. The properties are defined in the order of the parameters. The properties can be accessed by their names.\n",
    "\n",
    "Additional properties, methods, and constructors can be defined in the record body.\n",
    "\n",
    "\n"
   ]
  },
  {
   "cell_type": "code",
   "execution_count": null,
   "metadata": {
    "dotnet_interactive": {
     "language": "csharp"
    },
    "polyglot_notebook": {
     "kernelName": "csharp"
    },
    "vscode": {
     "languageId": "polyglot-notebook"
    }
   },
   "outputs": [],
   "source": [
    "using System.Drawing;\n",
    "\n",
    "public record Person (string Name, DateTime BirthDate)\n",
    "{\n",
    "    public Person (string name, DateTime birthDate, Color hairColor) \n",
    "        : this(name, birthDate) => HairColor = hairColor;\n",
    "\n",
    "    public int Age => (int)((DateTime.Now - BirthDate).TotalDays / 365.25);\n",
    "    public Color HairColor { get; set; } = Color.Black;\n",
    "}\n",
    "\n",
    "var person = new Person(\"Alice\", new DateTime(2000, 1, 1));\n",
    "Console.WriteLine(person.Age); \n",
    "var person2 = person with { Name = \"Alice\" };\n",
    "\n",
    "Console.WriteLine(person == person2); // True\n",
    "person.HairColor = Color.Red; \n",
    "Console.WriteLine(person == person2); // False\n",
    "\n",
    "var person3 = new Person(\"Reba\", new DateTime(2000, 1, 1), Color.Red);\n"
   ]
  },
  {
   "cell_type": "markdown",
   "metadata": {},
   "source": [
    "## Reference vs Value Records\n",
    "By default, records are reference types. This means that when you assign a record to a variable, you are assigning a reference to the record, not the record itself. This is similar to how classes work in C#.\n",
    "\n",
    "Define a value type record by using the `record` keyword with the `struct` modifier. This makes the record a value type, which means that when you assign a record to a variable, you are assigning the record itself, not a reference to the record. This is similar to how structs work in C#.\n",
    "\n",
    "The code below demonstrates the difference between reference and value records using pass by reference and pass by value sematics."
   ]
  },
  {
   "cell_type": "code",
   "execution_count": null,
   "metadata": {
    "dotnet_interactive": {
     "language": "csharp"
    },
    "polyglot_notebook": {
     "kernelName": "csharp"
    },
    "vscode": {
     "languageId": "polyglot-notebook"
    }
   },
   "outputs": [],
   "source": [
    "public record IotBulb (string Name, bool IsOn, Color Color, int Brightness);\n",
    "public record struct DogInfo (string Name, int Weight);\n",
    "\n",
    "var originalBulb = new IotBulb(\"Lamp\", true, Color.White, 100);\n",
    "var originalDog = new DogInfo(\"Fido\", 20);\n",
    "BulbRef(originalBulb);\n",
    "DogCopy(originalDog);\n",
    "\n",
    "void BulbRef (IotBulb bulb) \n",
    "    => Console.WriteLine(object.ReferenceEquals(originalBulb, bulb)); // True\n",
    "\n",
    "void DogCopy (DogInfo dog)\n",
    "    => Console.WriteLine(object.ReferenceEquals(originalDog, dog)); // False\n"
   ]
  },
  {
   "cell_type": "markdown",
   "metadata": {},
   "source": []
  }
 ],
 "metadata": {
  "kernelspec": {
   "display_name": ".NET (C#)",
   "language": "C#",
   "name": ".net-csharp"
  },
  "language_info": {
   "name": "python"
  },
  "polyglot_notebook": {
   "kernelInfo": {
    "defaultKernelName": "csharp",
    "items": [
     {
      "aliases": [],
      "name": "csharp"
     }
    ]
   }
  }
 },
 "nbformat": 4,
 "nbformat_minor": 2
}
