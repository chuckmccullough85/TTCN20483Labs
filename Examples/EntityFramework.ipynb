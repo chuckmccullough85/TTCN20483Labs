{
 "cells": [
  {
   "cell_type": "markdown",
   "metadata": {},
   "source": [
    "# Entity Framework Examples"
   ]
  },
  {
   "cell_type": "markdown",
   "metadata": {},
   "source": [
    "get nuget dependencies"
   ]
  },
  {
   "cell_type": "code",
   "execution_count": 1,
   "metadata": {
    "dotnet_interactive": {
     "language": "csharp"
    },
    "polyglot_notebook": {
     "kernelName": "csharp"
    },
    "vscode": {
     "languageId": "polyglot-notebook"
    }
   },
   "outputs": [
    {
     "data": {
      "text/html": [
       "<div><div></div><div></div><div><strong>Installed Packages</strong><ul><li><span>Microsoft.EntityFrameworkCore, 9.0.1</span></li><li><span>Microsoft.EntityFrameworkCore.Proxies, 9.0.1</span></li><li><span>Microsoft.EntityFrameworkCore.Sqlite, 9.0.1</span></li></ul></div></div>"
      ]
     },
     "metadata": {},
     "output_type": "display_data"
    }
   ],
   "source": [
    "#r \"nuget: Microsoft.EntityFrameworkCore\"\n",
    "#r \"nuget: Microsoft.EntityFrameworkCore.Sqlite\"\n",
    "#r \"nuget: Microsoft.EntityFrameworkCore.Proxies\"\n",
    "#pragma warning disable CS1701 // Assuming assembly reference matches identity \n",
    "#nullable enable\n"
   ]
  },
  {
   "cell_type": "code",
   "execution_count": 2,
   "metadata": {
    "vscode": {
     "languageId": "polyglot-notebook"
    }
   },
   "outputs": [],
   "source": []
  },
  {
   "cell_type": "code",
   "execution_count": 3,
   "metadata": {
    "dotnet_interactive": {
     "language": "csharp"
    },
    "polyglot_notebook": {
     "kernelName": "csharp"
    },
    "vscode": {
     "languageId": "polyglot-notebook"
    }
   },
   "outputs": [],
   "source": [
    "using Microsoft.EntityFrameworkCore;\n",
    "using Microsoft.EntityFrameworkCore.Sqlite;\n",
    "using Microsoft.EntityFrameworkCore.Proxies;"
   ]
  },
  {
   "cell_type": "markdown",
   "metadata": {},
   "source": [
    "The Venue Entity"
   ]
  },
  {
   "cell_type": "code",
   "execution_count": 4,
   "metadata": {
    "dotnet_interactive": {
     "language": "csharp"
    },
    "polyglot_notebook": {
     "kernelName": "csharp"
    },
    "vscode": {
     "languageId": "polyglot-notebook"
    }
   },
   "outputs": [],
   "source": [
    "public class Event\n",
    "{\n",
    "    public Event() : this(0, \"\", \"\", new Venue())\n",
    "    { }\n",
    "    public Event(int id, string name, string description, Venue venue)\n",
    "    {\n",
    "        Id = id;\n",
    "        Name = name;\n",
    "        Description = description;\n",
    "        Venue = venue;\n",
    "    }\n",
    "    public int Id { get; set; }\n",
    "    public string Name { get; set; }\n",
    "    public string Description { get; set; }\n",
    "    public virtual Venue Venue { get; set; }\n",
    "}\n",
    "\n",
    "public class Venue\n",
    "{\n",
    "    public Venue() :this (\"\", \"\", 0)\n",
    "    { }\n",
    "    public Venue(string name, string location, int capacity)\n",
    "    {\n",
    "        Name = name;\n",
    "        Location = location;\n",
    "        Capacity = capacity;\n",
    "    }\n",
    "    public int Id { get; set; }\n",
    "    public string Name { get; set; }\n",
    "    public string Location { get; set; }\n",
    "    public int Capacity { get; set; }\n",
    "    public virtual ICollection<Event> Events { get; set; } = new List<Event>();\n",
    "}\n",
    "\n"
   ]
  },
  {
   "cell_type": "markdown",
   "metadata": {},
   "source": [
    "The DbContext"
   ]
  },
  {
   "cell_type": "code",
   "execution_count": 5,
   "metadata": {
    "dotnet_interactive": {
     "language": "csharp"
    },
    "polyglot_notebook": {
     "kernelName": "csharp"
    },
    "vscode": {
     "languageId": "polyglot-notebook"
    }
   },
   "outputs": [],
   "source": [
    "public class TixDbContext : DbContext\n",
    "{\n",
    "    public TixDbContext()\n",
    "    { }\n",
    "    public TixDbContext(DbContextOptions<TixDbContext> options)\n",
    "        : base(options) \n",
    "    { }   \n",
    "\n",
    "    protected override void OnConfiguring(DbContextOptionsBuilder optionsBuilder)\n",
    "    {\n",
    "        optionsBuilder.UseLazyLoadingProxies();\n",
    "        optionsBuilder.UseSqlite(\"Data Source=tix.db\");\n",
    "    }\n",
    "\n",
    "    public DbSet<Venue> Venue { get; set; } = null!;\n",
    "}\n"
   ]
  },
  {
   "cell_type": "markdown",
   "metadata": {},
   "source": [
    "Create some records"
   ]
  },
  {
   "cell_type": "code",
   "execution_count": 6,
   "metadata": {
    "dotnet_interactive": {
     "language": "csharp"
    },
    "polyglot_notebook": {
     "kernelName": "csharp"
    },
    "vscode": {
     "languageId": "polyglot-notebook"
    }
   },
   "outputs": [],
   "source": [
    "public void CreateData()\n",
    "{\n",
    "    using TixDbContext context = new();\n",
    "    context.Database.EnsureDeleted();\n",
    "    context.Database.EnsureCreated();\n",
    "    var v1 = new Venue (\"Kyle Field\", \"College Station, TX\", 102733);\n",
    "    var v2 = new Venue (\"Darrell K Royal-Texas Memorial Stadium\", \"Austin, TX\", 100119);\n",
    "    var v3 = new Venue (\"Cotton Bowl\", \"Dallas, TX\", 92700);\n",
    "    var v4 = new Venue (\"AT&T Stadium\", \"Arlington, TX\", 80000);\n",
    "    var v5 = new Venue (\"NRG Stadium\", \"Houston, TX\", 72000);\n",
    "    context.Venue.AddRange(v1, v2, v3, v4, v5);\n",
    "    \n",
    "    v1.Events.Add(new Event(1, \"Aggies vs. Longhorns\", \"The big game\", v1));\n",
    "    v3.Events.Add(new Event(2, \"Red River Rivalry\", \"The big game\", v3));\n",
    "    \n",
    "\n",
    "    context.SaveChanges();\n",
    "}\n"
   ]
  },
  {
   "cell_type": "code",
   "execution_count": 7,
   "metadata": {
    "vscode": {
     "languageId": "polyglot-notebook"
    }
   },
   "outputs": [],
   "source": [
    "CreateData()"
   ]
  },
  {
   "cell_type": "markdown",
   "metadata": {},
   "source": [
    "Run to see the database"
   ]
  },
  {
   "cell_type": "code",
   "execution_count": 8,
   "metadata": {
    "vscode": {
     "languageId": "polyglot-notebook"
    }
   },
   "outputs": [
    {
     "data": {
      "text/html": [
       "<div><div></div><div></div><div><strong>Installed Packages</strong><ul><li><span>Microsoft.DotNet.Interactive.Sqlite, 1.0.0-beta.25070.1</span></li></ul></div></div>"
      ]
     },
     "metadata": {},
     "output_type": "display_data"
    },
    {
     "data": {
      "text/plain": [
       "Loading extension script from `C:\\Users\\chuck_vbrk0he\\.nuget\\packages\\microsoft.dotnet.interactive.sqlite\\1.0.0-beta.25070.1\\interactive-extensions\\dotnet\\extension.dib`"
      ]
     },
     "metadata": {},
     "output_type": "display_data"
    },
    {
     "data": {
      "text/html": [
       "<details><summary>Query SQLite databases.</summary>\r\n",
       "    <p>This extension adds support for connecting to SQLite databases using the <code>#!connect sqlite</code> magic command. For more information, run a cell using the <code>#!sql</code> magic command.</p>\r\n",
       "    </details>"
      ]
     },
     "metadata": {},
     "output_type": "display_data"
    }
   ],
   "source": [
    "#r \"nuget: Microsoft.DotNet.Interactive.Sqlite,*-*\""
   ]
  },
  {
   "cell_type": "code",
   "execution_count": 9,
   "metadata": {
    "vscode": {
     "languageId": "polyglot-notebook"
    }
   },
   "outputs": [
    {
     "data": {
      "text/plain": [
       "Kernel added: #!sql-tix"
      ]
     },
     "metadata": {},
     "output_type": "display_data"
    }
   ],
   "source": [
    "#!connect sqlite --kernel-name tix  \"Data source=tix.db\""
   ]
  },
  {
   "cell_type": "code",
   "execution_count": 10,
   "metadata": {
    "dotnet_interactive": {
     "language": "sql-tix"
    },
    "polyglot_notebook": {
     "kernelName": "sql-tix"
    },
    "vscode": {
     "languageId": "polyglot-notebook"
    }
   },
   "outputs": [
    {
     "data": {
      "text/csv": [
       "Id,Name,Location,Capacity\r\n",
       "1,\"Kyle Field\",\"College Station, TX\",102733\r\n",
       "2,\"Darrell K Royal-Texas Memorial Stadium\",\"Austin, TX\",100119\r\n",
       "3,\"Cotton Bowl\",\"Dallas, TX\",92700\r\n",
       "4,\"AT&T Stadium\",\"Arlington, TX\",80000\r\n",
       "5,\"NRG Stadium\",\"Houston, TX\",72000\r\n"
      ],
      "text/html": [
       "<table><thead><tr><td><span>Id</span></td><td><span>Name</span></td><td><span>Location</span></td><td><span>Capacity</span></td></tr></thead><tbody><tr><td><div class=\"dni-plaintext\"><pre>1</pre></div></td><td>Kyle Field</td><td>College Station, TX</td><td><div class=\"dni-plaintext\"><pre>102733</pre></div></td></tr><tr><td><div class=\"dni-plaintext\"><pre>2</pre></div></td><td>Darrell K Royal-Texas Memorial Stadium</td><td>Austin, TX</td><td><div class=\"dni-plaintext\"><pre>100119</pre></div></td></tr><tr><td><div class=\"dni-plaintext\"><pre>3</pre></div></td><td>Cotton Bowl</td><td>Dallas, TX</td><td><div class=\"dni-plaintext\"><pre>92700</pre></div></td></tr><tr><td><div class=\"dni-plaintext\"><pre>4</pre></div></td><td>AT&amp;T Stadium</td><td>Arlington, TX</td><td><div class=\"dni-plaintext\"><pre>80000</pre></div></td></tr><tr><td><div class=\"dni-plaintext\"><pre>5</pre></div></td><td>NRG Stadium</td><td>Houston, TX</td><td><div class=\"dni-plaintext\"><pre>72000</pre></div></td></tr></tbody></table><style>\r\n",
       ".dni-code-hint {\r\n",
       "    font-style: italic;\r\n",
       "    overflow: hidden;\r\n",
       "    white-space: nowrap;\r\n",
       "}\r\n",
       ".dni-treeview {\r\n",
       "    white-space: nowrap;\r\n",
       "}\r\n",
       ".dni-treeview td {\r\n",
       "    vertical-align: top;\r\n",
       "    text-align: start;\r\n",
       "}\r\n",
       "details.dni-treeview {\r\n",
       "    padding-left: 1em;\r\n",
       "}\r\n",
       "table td {\r\n",
       "    text-align: start;\r\n",
       "}\r\n",
       "table tr { \r\n",
       "    vertical-align: top; \r\n",
       "    margin: 0em 0px;\r\n",
       "}\r\n",
       "table tr td pre \r\n",
       "{ \r\n",
       "    vertical-align: top !important; \r\n",
       "    margin: 0em 0px !important;\r\n",
       "} \r\n",
       "table th {\r\n",
       "    text-align: start;\r\n",
       "}\r\n",
       "</style>"
      ]
     },
     "metadata": {},
     "output_type": "display_data"
    }
   ],
   "source": [
    "SELECT * FROM Venue\n"
   ]
  },
  {
   "cell_type": "code",
   "execution_count": 11,
   "metadata": {
    "dotnet_interactive": {
     "language": "sql-tix"
    },
    "polyglot_notebook": {
     "kernelName": "sql-tix"
    },
    "vscode": {
     "languageId": "polyglot-notebook"
    }
   },
   "outputs": [
    {
     "data": {
      "text/csv": [
       "Id,Name,Description,VenueId\r\n",
       "1,\"Aggies vs. Longhorns\",\"The big game\",1\r\n",
       "2,\"Red River Rivalry\",\"The big game\",3\r\n"
      ],
      "text/html": [
       "<table><thead><tr><td><span>Id</span></td><td><span>Name</span></td><td><span>Description</span></td><td><span>VenueId</span></td></tr></thead><tbody><tr><td><div class=\"dni-plaintext\"><pre>1</pre></div></td><td>Aggies vs. Longhorns</td><td>The big game</td><td><div class=\"dni-plaintext\"><pre>1</pre></div></td></tr><tr><td><div class=\"dni-plaintext\"><pre>2</pre></div></td><td>Red River Rivalry</td><td>The big game</td><td><div class=\"dni-plaintext\"><pre>3</pre></div></td></tr></tbody></table><style>\r\n",
       ".dni-code-hint {\r\n",
       "    font-style: italic;\r\n",
       "    overflow: hidden;\r\n",
       "    white-space: nowrap;\r\n",
       "}\r\n",
       ".dni-treeview {\r\n",
       "    white-space: nowrap;\r\n",
       "}\r\n",
       ".dni-treeview td {\r\n",
       "    vertical-align: top;\r\n",
       "    text-align: start;\r\n",
       "}\r\n",
       "details.dni-treeview {\r\n",
       "    padding-left: 1em;\r\n",
       "}\r\n",
       "table td {\r\n",
       "    text-align: start;\r\n",
       "}\r\n",
       "table tr { \r\n",
       "    vertical-align: top; \r\n",
       "    margin: 0em 0px;\r\n",
       "}\r\n",
       "table tr td pre \r\n",
       "{ \r\n",
       "    vertical-align: top !important; \r\n",
       "    margin: 0em 0px !important;\r\n",
       "} \r\n",
       "table th {\r\n",
       "    text-align: start;\r\n",
       "}\r\n",
       "</style>"
      ]
     },
     "metadata": {},
     "output_type": "display_data"
    }
   ],
   "source": [
    "SELECT * FROM Event"
   ]
  },
  {
   "cell_type": "code",
   "execution_count": 12,
   "metadata": {
    "dotnet_interactive": {
     "language": "sql-tix"
    },
    "polyglot_notebook": {
     "kernelName": "sql-tix"
    },
    "vscode": {
     "languageId": "polyglot-notebook"
    }
   },
   "outputs": [
    {
     "data": {
      "text/csv": [
       "type,name,tbl_name,rootpage,sql\r\n",
       "table,Venue,Venue,2,\"CREATE TABLE \"\"Venue\"\" (\r\n",
       "    \"\"Id\"\" INTEGER NOT NULL CONSTRAINT \"\"PK_Venue\"\" PRIMARY KEY AUTOINCREMENT,\r\n",
       "    \"\"Name\"\" TEXT NULL,\r\n",
       "    \"\"Location\"\" TEXT NULL,\r\n",
       "    \"\"Capacity\"\" INTEGER NOT NULL\r\n",
       ")\"\r\n",
       "table,sqlite_sequence,sqlite_sequence,3,\"CREATE TABLE sqlite_sequence(name,seq)\"\r\n",
       "table,Event,Event,4,\"CREATE TABLE \"\"Event\"\" (\r\n",
       "    \"\"Id\"\" INTEGER NOT NULL CONSTRAINT \"\"PK_Event\"\" PRIMARY KEY AUTOINCREMENT,\r\n",
       "    \"\"Name\"\" TEXT NULL,\r\n",
       "    \"\"Description\"\" TEXT NULL,\r\n",
       "    \"\"VenueId\"\" INTEGER NULL,\r\n",
       "    CONSTRAINT \"\"FK_Event_Venue_VenueId\"\" FOREIGN KEY (\"\"VenueId\"\") REFERENCES \"\"Venue\"\" (\"\"Id\"\")\r\n",
       ")\"\r\n",
       "index,IX_Event_VenueId,Event,5,\"CREATE INDEX \"\"IX_Event_VenueId\"\" ON \"\"Event\"\" (\"\"VenueId\"\")\"\r\n"
      ],
      "text/html": [
       "<table><thead><tr><td><span>type</span></td><td><span>name</span></td><td><span>tbl_name</span></td><td><span>rootpage</span></td><td><span>sql</span></td></tr></thead><tbody><tr><td>table</td><td>Venue</td><td>Venue</td><td><div class=\"dni-plaintext\"><pre>2</pre></div></td><td>CREATE TABLE &quot;Venue&quot; (\r\n",
       "    &quot;Id&quot; INTEGER NOT NULL CONSTRAINT &quot;PK_Venue&quot; PRIMARY KEY AUTOINCREMENT,\r\n",
       "    &quot;Name&quot; TEXT NULL,\r\n",
       "    &quot;Location&quot; TEXT NULL,\r\n",
       "    &quot;Capacity&quot; INTEGER NOT NULL\r\n",
       ")</td></tr><tr><td>table</td><td>sqlite_sequence</td><td>sqlite_sequence</td><td><div class=\"dni-plaintext\"><pre>3</pre></div></td><td>CREATE TABLE sqlite_sequence(name,seq)</td></tr><tr><td>table</td><td>Event</td><td>Event</td><td><div class=\"dni-plaintext\"><pre>4</pre></div></td><td>CREATE TABLE &quot;Event&quot; (\r\n",
       "    &quot;Id&quot; INTEGER NOT NULL CONSTRAINT &quot;PK_Event&quot; PRIMARY KEY AUTOINCREMENT,\r\n",
       "    &quot;Name&quot; TEXT NULL,\r\n",
       "    &quot;Description&quot; TEXT NULL,\r\n",
       "    &quot;VenueId&quot; INTEGER NULL,\r\n",
       "    CONSTRAINT &quot;FK_Event_Venue_VenueId&quot; FOREIGN KEY (&quot;VenueId&quot;) REFERENCES &quot;Venue&quot; (&quot;Id&quot;)\r\n",
       ")</td></tr><tr><td>index</td><td>IX_Event_VenueId</td><td>Event</td><td><div class=\"dni-plaintext\"><pre>5</pre></div></td><td>CREATE INDEX &quot;IX_Event_VenueId&quot; ON &quot;Event&quot; (&quot;VenueId&quot;)</td></tr></tbody></table><style>\r\n",
       ".dni-code-hint {\r\n",
       "    font-style: italic;\r\n",
       "    overflow: hidden;\r\n",
       "    white-space: nowrap;\r\n",
       "}\r\n",
       ".dni-treeview {\r\n",
       "    white-space: nowrap;\r\n",
       "}\r\n",
       ".dni-treeview td {\r\n",
       "    vertical-align: top;\r\n",
       "    text-align: start;\r\n",
       "}\r\n",
       "details.dni-treeview {\r\n",
       "    padding-left: 1em;\r\n",
       "}\r\n",
       "table td {\r\n",
       "    text-align: start;\r\n",
       "}\r\n",
       "table tr { \r\n",
       "    vertical-align: top; \r\n",
       "    margin: 0em 0px;\r\n",
       "}\r\n",
       "table tr td pre \r\n",
       "{ \r\n",
       "    vertical-align: top !important; \r\n",
       "    margin: 0em 0px !important;\r\n",
       "} \r\n",
       "table th {\r\n",
       "    text-align: start;\r\n",
       "}\r\n",
       "</style>"
      ]
     },
     "metadata": {},
     "output_type": "display_data"
    }
   ],
   "source": [
    "SELECT * FROM sqlite_schema"
   ]
  },
  {
   "cell_type": "markdown",
   "metadata": {},
   "source": [
    "Get entities from the db"
   ]
  },
  {
   "cell_type": "code",
   "execution_count": 13,
   "metadata": {
    "vscode": {
     "languageId": "polyglot-notebook"
    }
   },
   "outputs": [
    {
     "name": "stdout",
     "output_type": "stream",
     "text": [
      "Kyle Field in College Station, TX has a capacity of 102733\n",
      "Darrell K Royal-Texas Memorial Stadium in Austin, TX has a capacity of 100119\n",
      "Cotton Bowl in Dallas, TX has a capacity of 92700\n",
      "AT&T Stadium in Arlington, TX has a capacity of 80000\n",
      "NRG Stadium in Houston, TX has a capacity of 72000\n"
     ]
    }
   ],
   "source": [
    "public IEnumerable<Venue> GetVenues()\n",
    "{\n",
    "    using TixDbContext context = new();\n",
    "    return context.Venue.ToList();\n",
    "}\n",
    "\n",
    "foreach (var venue in GetVenues())\n",
    "{\n",
    "    Console.WriteLine($\"{venue.Name} in {venue.Location} has a capacity of {venue.Capacity}\");\n",
    "}"
   ]
  }
 ],
 "metadata": {
  "kernelspec": {
   "display_name": ".NET (C#)",
   "language": "C#",
   "name": ".net-csharp"
  },
  "language_info": {
   "name": "python"
  },
  "polyglot_notebook": {
   "kernelInfo": {
    "defaultKernelName": "csharp",
    "items": [
     {
      "aliases": [],
      "name": "csharp"
     }
    ]
   }
  }
 },
 "nbformat": 4,
 "nbformat_minor": 2
}
