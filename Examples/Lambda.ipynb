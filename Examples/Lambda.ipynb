{
 "cells": [
  {
   "cell_type": "markdown",
   "metadata": {},
   "source": [
    "## Lambda\n",
    "\n",
    "Assume we have a function that calculates taxes.  Double parameter and double return value.\n"
   ]
  },
  {
   "cell_type": "code",
   "execution_count": 1,
   "metadata": {
    "vscode": {
     "languageId": "polyglot-notebook"
    }
   },
   "outputs": [],
   "source": [
    "double CalculateTax(double gross)\n",
    "{return gross * 0.15;}"
   ]
  },
  {
   "cell_type": "markdown",
   "metadata": {},
   "source": [
    "This method follows the signature of a `Func<double, double>`"
   ]
  },
  {
   "cell_type": "code",
   "execution_count": 3,
   "metadata": {
    "vscode": {
     "languageId": "polyglot-notebook"
    }
   },
   "outputs": [
    {
     "name": "stdout",
     "output_type": "stream",
     "text": [
      "150\r\n"
     ]
    }
   ],
   "source": [
    "Func<double, double> func = CalculateTax;\n",
    "\n",
    "Console.WriteLine(func(1000)); // 150"
   ]
  },
  {
   "cell_type": "markdown",
   "metadata": {},
   "source": [
    "We can also define this as a lambda expression."
   ]
  },
  {
   "cell_type": "code",
   "execution_count": null,
   "metadata": {
    "vscode": {
     "languageId": "polyglot-notebook"
    }
   },
   "outputs": [],
   "source": [
    "Func<double,double> f1 = (double amt) => { return amt * 0.15; };\n",
    "\n",
    "// lose the {} and return keyword\n",
    "Func<double,double> f2 = (double amt) => amt * 0.15;\n",
    "\n",
    "// lose the type of the parameter\n",
    "Func<double,double> f3 = (amt) => amt * 0.15;\n",
    "\n",
    "// lose the () around the parameter\n",
    "Func<double,double> f4 = amt => amt * 0.15;"
   ]
  }
 ],
 "metadata": {
  "kernelspec": {
   "display_name": ".NET (C#)",
   "language": "C#",
   "name": ".net-csharp"
  },
  "language_info": {
   "name": "python"
  },
  "polyglot_notebook": {
   "kernelInfo": {
    "defaultKernelName": "csharp",
    "items": [
     {
      "aliases": [],
      "name": "csharp"
     }
    ]
   }
  }
 },
 "nbformat": 4,
 "nbformat_minor": 2
}
