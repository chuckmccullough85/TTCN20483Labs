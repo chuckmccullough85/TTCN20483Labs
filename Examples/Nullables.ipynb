{
 "cells": [
  {
   "cell_type": "markdown",
   "metadata": {},
   "source": [
    "## Examples of null operators and nullable types\n"
   ]
  },
  {
   "cell_type": "code",
   "execution_count": null,
   "metadata": {
    "vscode": {
     "languageId": "polyglot-notebook"
    }
   },
   "outputs": [],
   "source": [
    "#nullable enable\n",
    "\n",
    "// reference type that can be null and must be checked before use\n",
    "string? nullableString;\n",
    "\n",
    "if (DateTime.Now.Second % 2 == 0)\n",
    "    nullableString = \"Hello, World!\";\n",
    "\n",
    "Func (nullableString!);\n",
    "\n",
    "nullableString ??= \"default value\";\n",
    "\n",
    "\n",
    "void Func(string txt) {}"
   ]
  }
 ],
 "metadata": {
  "kernelspec": {
   "display_name": ".NET (C#)",
   "language": "C#",
   "name": ".net-csharp"
  },
  "language_info": {
   "name": "python"
  },
  "polyglot_notebook": {
   "kernelInfo": {
    "defaultKernelName": "csharp",
    "items": [
     {
      "aliases": [],
      "name": "csharp"
     }
    ]
   }
  }
 },
 "nbformat": 4,
 "nbformat_minor": 2
}
